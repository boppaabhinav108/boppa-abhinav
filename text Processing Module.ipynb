{
 "cells": [
  {
   "cell_type": "code",
   "execution_count": 4,
   "id": "93c3b920-de0a-4eb4-a344-f43f544d22df",
   "metadata": {},
   "outputs": [],
   "source": [
    "def remove_punc(input_text):\n",
    "    punctuation_marks = [',', '!', '?', '[', '&', '^', '%', '*', '{', '#', '$', '~', '(', ')', '}']\n",
    "    output_text = \"\"\n",
    "    for char in input_text:\n",
    "        if char not in punctuation_marks:\n",
    "            output_text += char\n",
    "    return output_text\n"
   ]
  },
  {
   "cell_type": "code",
   "execution_count": 6,
   "id": "23e8c908-7056-409b-abcc-c3b47870e6ae",
   "metadata": {},
   "outputs": [
    {
     "data": {
      "text/plain": [
       "'Hello\"How are you\"'"
      ]
     },
     "execution_count": 6,
     "metadata": {},
     "output_type": "execute_result"
    }
   ],
   "source": [
    "remove_punc('''Hello!,\"How are you?\"''')"
   ]
  },
  {
   "cell_type": "code",
   "execution_count": 22,
   "id": "60f9f794-9e0c-4225-84f9-c6ef5fe3f28e",
   "metadata": {},
   "outputs": [],
   "source": [
    "def remove_stopwords(input_text):\n",
    "    stop_words =[\"is\",\"and\",\"the\",\"a\",\"an\",\"in\",\"on\"]\n",
    "    words = input_text.split()\n",
    "    filtered_words = []\n",
    "    for word in words()not in stop_words:\n",
    "        if word.lower() not in stop_words:\n",
    "            filtered_words.append(word)\n",
    "    output_text =' '.join(filtered_words)\n",
    "    return(output_text)"
   ]
  },
  {
   "cell_type": "code",
   "execution_count": 26,
   "id": "5a994b78-f2cd-4798-bdad-aef231ddbe9e",
   "metadata": {},
   "outputs": [
    {
     "ename": "TypeError",
     "evalue": "'list' object is not callable",
     "output_type": "error",
     "traceback": [
      "\u001b[0;31m---------------------------------------------------------------------------\u001b[0m",
      "\u001b[0;31mTypeError\u001b[0m                                 Traceback (most recent call last)",
      "Cell \u001b[0;32mIn[26], line 1\u001b[0m\n\u001b[0;32m----> 1\u001b[0m remove_stopwords(\u001b[38;5;124m\"\u001b[39m\u001b[38;5;124mThe movie was good and it is a hit\u001b[39m\u001b[38;5;124m\"\u001b[39m)\n",
      "Cell \u001b[0;32mIn[22], line 5\u001b[0m, in \u001b[0;36mremove_stopwords\u001b[0;34m(input_text)\u001b[0m\n\u001b[1;32m      3\u001b[0m words \u001b[38;5;241m=\u001b[39m input_text\u001b[38;5;241m.\u001b[39msplit()\n\u001b[1;32m      4\u001b[0m filtered_words \u001b[38;5;241m=\u001b[39m []\n\u001b[0;32m----> 5\u001b[0m \u001b[38;5;28;01mfor\u001b[39;00m word \u001b[38;5;129;01min\u001b[39;00m words()\u001b[38;5;129;01mnot\u001b[39;00m \u001b[38;5;129;01min\u001b[39;00m stop_words:\n\u001b[1;32m      6\u001b[0m     \u001b[38;5;28;01mif\u001b[39;00m word\u001b[38;5;241m.\u001b[39mlower() \u001b[38;5;129;01mnot\u001b[39;00m \u001b[38;5;129;01min\u001b[39;00m stop_words:\n\u001b[1;32m      7\u001b[0m         filtered_words\u001b[38;5;241m.\u001b[39mappend(word)\n",
      "\u001b[0;31mTypeError\u001b[0m: 'list' object is not callable"
     ]
    }
   ],
   "source": [
    "remove_stopwords(\"The movie was good and it is a hit\")"
   ]
  },
  {
   "cell_type": "code",
   "execution_count": null,
   "id": "73c8b32a-5e7c-45a9-836d-5911cc500507",
   "metadata": {},
   "outputs": [],
   "source": []
  }
 ],
 "metadata": {
  "kernelspec": {
   "display_name": "Python 3 (ipykernel)",
   "language": "python",
   "name": "python3"
  },
  "language_info": {
   "codemirror_mode": {
    "name": "ipython",
    "version": 3
   },
   "file_extension": ".py",
   "mimetype": "text/x-python",
   "name": "python",
   "nbconvert_exporter": "python",
   "pygments_lexer": "ipython3",
   "version": "3.12.7"
  }
 },
 "nbformat": 4,
 "nbformat_minor": 5
}
